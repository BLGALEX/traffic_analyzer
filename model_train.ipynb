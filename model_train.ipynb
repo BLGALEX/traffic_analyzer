{
  "nbformat": 4,
  "nbformat_minor": 0,
  "metadata": {
    "colab": {
      "name": "Untitled28.ipynb",
      "provenance": [],
      "collapsed_sections": []
    },
    "kernelspec": {
      "name": "python3",
      "display_name": "Python 3"
    },
    "language_info": {
      "name": "python"
    }
  },
  "cells": [
    {
      "cell_type": "code",
      "source": [
        "!pip install nfstream"
      ],
      "metadata": {
        "colab": {
          "base_uri": "https://localhost:8080/",
          "height": 519
        },
        "id": "zP_FWy9kXPdO",
        "outputId": "5a2210dc-cc4d-4681-bd0d-be0dc0b60118"
      },
      "execution_count": 2,
      "outputs": [
        {
          "output_type": "stream",
          "name": "stdout",
          "text": [
            "Collecting nfstream\n",
            "  Downloading nfstream-6.4.3-cp37-cp37m-manylinux1_x86_64.whl (2.0 MB)\n",
            "\u001b[K     |████████████████████████████████| 2.0 MB 4.4 MB/s \n",
            "\u001b[?25hRequirement already satisfied: numpy>=1.19.5 in /usr/local/lib/python3.7/dist-packages (from nfstream) (1.21.5)\n",
            "Requirement already satisfied: pandas>=1.1.5 in /usr/local/lib/python3.7/dist-packages (from nfstream) (1.3.5)\n",
            "Collecting psutil>=5.8.0\n",
            "  Downloading psutil-5.9.0-cp37-cp37m-manylinux_2_12_x86_64.manylinux2010_x86_64.manylinux_2_17_x86_64.manylinux2014_x86_64.whl (280 kB)\n",
            "\u001b[K     |████████████████████████████████| 280 kB 57.5 MB/s \n",
            "\u001b[?25hRequirement already satisfied: cffi>=1.14.6 in /usr/local/lib/python3.7/dist-packages (from nfstream) (1.15.0)\n",
            "Collecting dpkt>=1.9.7\n",
            "  Downloading dpkt-1.9.7.2-py3-none-any.whl (181 kB)\n",
            "\u001b[K     |████████████████████████████████| 181 kB 56.1 MB/s \n",
            "\u001b[?25hRequirement already satisfied: pycparser in /usr/local/lib/python3.7/dist-packages (from cffi>=1.14.6->nfstream) (2.21)\n",
            "Requirement already satisfied: pytz>=2017.3 in /usr/local/lib/python3.7/dist-packages (from pandas>=1.1.5->nfstream) (2018.9)\n",
            "Requirement already satisfied: python-dateutil>=2.7.3 in /usr/local/lib/python3.7/dist-packages (from pandas>=1.1.5->nfstream) (2.8.2)\n",
            "Requirement already satisfied: six>=1.5 in /usr/local/lib/python3.7/dist-packages (from python-dateutil>=2.7.3->pandas>=1.1.5->nfstream) (1.15.0)\n",
            "Installing collected packages: psutil, dpkt, nfstream\n",
            "  Attempting uninstall: psutil\n",
            "    Found existing installation: psutil 5.4.8\n",
            "    Uninstalling psutil-5.4.8:\n",
            "      Successfully uninstalled psutil-5.4.8\n",
            "Successfully installed dpkt-1.9.7.2 nfstream-6.4.3 psutil-5.9.0\n"
          ]
        },
        {
          "output_type": "display_data",
          "data": {
            "application/vnd.colab-display-data+json": {
              "pip_warning": {
                "packages": [
                  "psutil"
                ]
              }
            }
          },
          "metadata": {}
        }
      ]
    },
    {
      "cell_type": "code",
      "execution_count": 11,
      "metadata": {
        "id": "MedXmhMtW8QN"
      },
      "outputs": [],
      "source": [
        "from sklearn.ensemble import RandomForestClassifier\n",
        "from sklearn import preprocessing\n",
        "from sklearn.model_selection import train_test_split\n",
        "from nfstream import NFStreamer\n",
        "import os\n",
        "import pickle\n"
      ]
    },
    {
      "cell_type": "code",
      "source": [
        "stream = NFStreamer(source=\"third_dataset.pcap\").to_pandas()\n",
        "\n",
        "X = stream[[\n",
        "        \"src_port\",\n",
        "        \"dst_port\",\n",
        "        \"bidirectional_packets\",\n",
        "        \"bidirectional_bytes\",\n",
        "        \"bidirectional_duration_ms\",\n",
        "        \"src2dst_duration_ms\",\n",
        "        \"src2dst_packets\",\n",
        "        \"src2dst_bytes\",\n",
        "        \"application_is_guessed\",\n",
        "    ]]\n",
        "    \n",
        "y = stream[\"application_category_name\"].apply(lambda x: 1 if 'VPN' in x else 0)\n",
        "X = preprocessing.normalize(X, axis=0)\n",
        "y.fillna(value=0, inplace=True)\n",
        "\n",
        "model = RandomForestClassifier(\n",
        "    criterion='gini',\n",
        "    n_estimators=21,\n",
        "    max_features='auto',\n",
        "    max_depth=4,\n",
        "    random_state=42)\n",
        "\n",
        "model.fit(X, y)\n",
        "with open(\"model.pkl\", \"wb\") as f:\n",
        "    pickle.dump(model, f)\n",
        "print(model.score(X, y))"
      ],
      "metadata": {
        "colab": {
          "base_uri": "https://localhost:8080/"
        },
        "id": "NceHe01yXJXe",
        "outputId": "6c78fd65-3299-4d40-e50e-2b9320ff8069"
      },
      "execution_count": 26,
      "outputs": [
        {
          "output_type": "stream",
          "name": "stdout",
          "text": [
            "1.0\n"
          ]
        }
      ]
    },
    {
      "cell_type": "code",
      "source": [
        ""
      ],
      "metadata": {
        "id": "pK27Rmavg6kb"
      },
      "execution_count": null,
      "outputs": []
    }
  ]
}